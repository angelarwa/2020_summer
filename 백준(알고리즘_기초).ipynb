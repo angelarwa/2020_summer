{
  "nbformat": 4,
  "nbformat_minor": 0,
  "metadata": {
    "colab": {
      "name": "백준(알고리즘 기초)",
      "provenance": [],
      "collapsed_sections": [
        "jTgDXa5Dg8qF",
        "nC4DUeSi4TAR",
        "n5HjeGLK3a47",
        "YeeVfapD52kb"
      ],
      "authorship_tag": "ABX9TyNkGfJm7iUTaZ7k+3Gj62mC",
      "include_colab_link": true
    },
    "kernelspec": {
      "name": "python3",
      "display_name": "Python 3"
    }
  },
  "cells": [
    {
      "cell_type": "markdown",
      "metadata": {
        "id": "view-in-github",
        "colab_type": "text"
      },
      "source": [
        "<a href=\"https://colab.research.google.com/github/angelarwa/2020_summer/blob/master/%EB%B0%B1%EC%A4%80(%EC%95%8C%EA%B3%A0%EB%A6%AC%EC%A6%98_%EA%B8%B0%EC%B4%88).ipynb\" target=\"_parent\"><img src=\"https://colab.research.google.com/assets/colab-badge.svg\" alt=\"Open In Colab\"/></a>"
      ]
    },
    {
      "cell_type": "code",
      "metadata": {
        "id": "J3_mXL_ngKqB",
        "colab_type": "code",
        "colab": {}
      },
      "source": [
        ""
      ],
      "execution_count": null,
      "outputs": []
    },
    {
      "cell_type": "markdown",
      "metadata": {
        "id": "KSLj-cte8Kek",
        "colab_type": "text"
      },
      "source": [
        "# 브루트포스"
      ]
    },
    {
      "cell_type": "markdown",
      "metadata": {
        "id": "U6wLvyTBHlh5",
        "colab_type": "text"
      },
      "source": [
        "## 수이어쓰기1(1748)\n",
        "문제\n",
        "1부터 N까지의 수를 이어서 쓰면 다음과 같이 새로운 하나의 수를 얻을 수 있다.\n",
        "\n",
        "1234567891011121314151617181920212223...\n",
        "\n",
        "이렇게 만들어진 새로운 수는 몇 자리 수일까? 이 수의 자릿수를 구하는 프로그램을 작성하시오.\n",
        "\n",
        "입력\n",
        "첫째 줄에 N(1≤N≤100,000,000)이 주어진다.\n",
        "\n",
        "출력\n",
        "첫째 줄에 새로운 수의 자릿수를 출력한다."
      ]
    },
    {
      "cell_type": "code",
      "metadata": {
        "id": "xCoJnCOGHomF",
        "colab_type": "code",
        "colab": {}
      },
      "source": [
        "n = input()\n",
        "a = len(n) - 1\n",
        "\n",
        "result = 0\n",
        "i = 0\n",
        "\n",
        "while i < a:\n",
        "    result += 9 * (10 ** i) * (i + 1)\n",
        "    i += 1\n",
        "result += ((int(n) - (10 ** a)) + 1) * (a + 1)\n",
        "\n",
        "print(result)"
      ],
      "execution_count": null,
      "outputs": []
    },
    {
      "cell_type": "markdown",
      "metadata": {
        "id": "UoHb4luZHBBG",
        "colab_type": "text"
      },
      "source": [
        "## 링크와 스타트(15661)\n",
        "\n",
        "문제\n",
        "오늘은 스타트링크에 다니는 사람들이 모여서 축구를 해보려고 한다. 축구는 평일 오후에 하고 의무 참석도 아니다. 축구를 하기 위해 모인 사람은 총 N명이다. 이제 스타트 팀과 링크 팀으로 사람들을 나눠야 한다. 두 팀의 인원수는 같지 않아도 되지만, 한 명 이상이어야 한다.\n",
        "\n",
        "BOJ를 운영하는 회사 답게 사람에게 번호를 1부터 N까지로 배정했고, 아래와 같은 능력치를 조사했다. 능력치 Sij는 i번 사람과 j번 사람이 같은 팀에 속했을 때, 팀에 더해지는 능력치이다. 팀의 능력치는 팀에 속한 모든 쌍의 능력치 Sij의 합이다. Sij는 Sji와 다를 수도 있으며, i번 사람과 j번 사람이 같은 팀에 속했을 때, 팀에 더해지는 능력치는 Sij와 Sji이다.\n",
        "\n",
        "N=4이고, S가 아래와 같은 경우를 살펴보자.\n",
        "\n",
        "i\\j\t1\t2\t3\t4\n",
        "1\t \t1\t2\t3\n",
        "2\t4\t \t5\t6\n",
        "3\t7\t1\t \t2\n",
        "4\t3\t4\t5\t \n",
        "예를 들어, 1, 2번이 스타트 팀, 3, 4번이 링크 팀에 속한 경우에 두 팀의 능력치는 아래와 같다.\n",
        "\n",
        "스타트 팀: S12 + S21 = 1 + 4 = 5\n",
        "링크 팀: S34 + S43 = 2 + 5 = 7\n",
        "1, 3번이 스타트 팀, 2, 4번이 링크 팀에 속하면, 두 팀의 능력치는 아래와 같다.\n",
        "\n",
        "스타트 팀: S13 + S31 = 2 + 7 = 9\n",
        "링크 팀: S24 + S42 = 6 + 4 = 10\n",
        "축구를 재미있게 하기 위해서 스타트 팀의 능력치와 링크 팀의 능력치의 차이를 최소로 하려고 한다. 위의 예제와 같은 경우에는 1, 4번이 스타트 팀, 2, 3번 팀이 링크 팀에 속하면 스타트 팀의 능력치는 6, 링크 팀의 능력치는 6이 되어서 차이가 0이 되고 이 값이 최소이다.\n",
        "\n",
        "입력\n",
        "첫째 줄에 N(4 ≤ N ≤ 20)이 주어진다. 둘째 줄부터 N개의 줄에 S가 주어진다. 각 줄은 N개의 수로 이루어져 있고, i번 줄의 j번째 수는 Sij 이다. Sii는 항상 0이고, 나머지 Sij는 1보다 크거나 같고, 100보다 작거나 같은 정수이다.\n",
        "\n",
        "출력\n",
        "첫째 줄에 스타트 팀과 링크 팀의 능력치의 차이의 최솟값을 출력한다."
      ]
    },
    {
      "cell_type": "code",
      "metadata": {
        "id": "Po8GMCdaHOS-",
        "colab_type": "code",
        "colab": {}
      },
      "source": [
        "import sys\n",
        "\n",
        "M = int(sys.stdin.readline())\n",
        "N = M // 2\n",
        "\n",
        "stat = [list(map(int, sys.stdin.readline().split())) for _ in range(M)]\n",
        "row = [sum(i) for i in stat]\n",
        "col = [sum(i) for i in zip(*stat)]\n",
        "\n",
        "newstat = [i+ j for i, j in zip(row, col)]\n",
        "allstat = sum(newstat) // 2\n",
        "newstat.sort()\n",
        "\n",
        "def main(addup, i):\n",
        "    if addup >= 0:\n",
        "        return -addup\n",
        "    if i == -1:\n",
        "        return addup\n",
        "    x = main(addup + newstat[i], i-1)\n",
        "    if x == 0:\n",
        "        return 0\n",
        "    return max(x, main(addup, i-1))\n",
        "\n",
        "print(-main(-allstat, M - 2))"
      ],
      "execution_count": null,
      "outputs": []
    },
    {
      "cell_type": "markdown",
      "metadata": {
        "id": "ksXuCHWqrbww",
        "colab_type": "text"
      },
      "source": [
        "## 날짜계산(1476)\n",
        "문제\n",
        "준규가 사는 나라는 우리가 사용하는 연도와 다른 방식을 이용한다. 준규가 사는 나라에서는 수 3개를 이용해서 연도를 나타낸다. 각각의 수는 지구, 태양, 그리고 달을 나타낸다.\n",
        "\n",
        "지구를 나타내는 수를 E, 태양을 나타내는 수를 S, 달을 나타내는 수를 M이라고 했을 때, 이 세 수는 서로 다른 범위를 가진다. (1 ≤ E ≤ 15, 1 ≤ S ≤ 28, 1 ≤ M ≤ 19)\n",
        "\n",
        "우리가 알고있는 1년은 준규가 살고있는 나라에서는 1 1 1로 나타낼 수 있다. 1년이 지날 때마다, 세 수는 모두 1씩 증가한다. 만약, 어떤 수가 범위를 넘어가는 경우에는 1이 된다.\n",
        "\n",
        "예를 들어, 15년은 15 15 15로 나타낼 수 있다. 하지만, 1년이 지나서 16년이 되면 16 16 16이 아니라 1 16 16이 된다. 이유는 1 ≤ E ≤ 15 라서 범위를 넘어가기 때문이다.\n",
        "\n",
        "E, S, M이 주어졌고, 1년이 준규가 사는 나라에서 1 1 1일때, 준규가 사는 나라에서 E S M이 우리가 알고 있는 연도로 몇 년인지 구하는 프로그램을 작성하시오.\n",
        "\n",
        "입력\n",
        "첫째 줄에 세 수 E, S, M이 주어진다. 문제에 나와있는 범위를 지키는 입력만 주어진다.\n",
        "\n",
        "출력\n",
        "첫째 줄에 E S M으로 표시되는 가장 빠른 연도를 출력한다. 1 1 1은 항상 1이기 때문에, 정답이 음수가 나오는 경우는 없다."
      ]
    },
    {
      "cell_type": "code",
      "metadata": {
        "id": "KIuKTsJ7rcJn",
        "colab_type": "code",
        "colab": {}
      },
      "source": [
        "E, S, M = map(int, input().split())\n",
        "year = 1\n",
        " \n",
        "while True:\n",
        "    if (year - E) % 15 == 0 and (year - S) % 28 == 0 and (year - M) % 19 == 0:\n",
        "        print(year)\n",
        "        break\n",
        "    year += 1"
      ],
      "execution_count": null,
      "outputs": []
    },
    {
      "cell_type": "markdown",
      "metadata": {
        "id": "auwJpQPErOGW",
        "colab_type": "text"
      },
      "source": [
        "## 사탕게임(3085)\n",
        "문제\n",
        "상근이는 어렸을 적에 \"봄보니 (Bomboni)\" 게임을 즐겨했다.\n",
        "\n",
        "가장 처음에 N×N크기에 사탕을 채워 놓는다. 사탕의 색은 모두 같지 않을 수도 있다. 상근이는 사탕의 색이 다른 인접한 두 칸을 고른다. 그 다음 고른 칸에 들어있는 사탕을 서로 교환한다. 이제, 모두 같은 색으로 이루어져 있는 가장 긴 연속 부분(행 또는 열)을 고른 다음 그 사탕을 모두 먹는다.\n",
        "\n",
        "사탕이 채워진 상태가 주어졌을 때, 상근이가 먹을 수 있는 사탕의 최대 개수를 구하는 프로그램을 작성하시오.\n",
        "\n",
        "입력\n",
        "첫째 줄에 보드의 크기 N이 주어진다. (3 ≤ N ≤ 50)\n",
        "\n",
        "다음 N개 줄에는 보드에 채워져 있는 사탕의 색상이 주어진다. 빨간색은 C, 파란색은 P, 초록색은 Z, 노란색은 Y로 주어진다.\n",
        "\n",
        "사탕의 색이 다른 인접한 두 칸이 존재하는 입력만 주어진다.\n",
        "\n",
        "출력\n",
        "첫째 줄에 상근이가 먹을 수 있는 사탕의 최대 개수를 출력한다."
      ]
    },
    {
      "cell_type": "code",
      "metadata": {
        "id": "pMpVAOMzrWqf",
        "colab_type": "code",
        "colab": {}
      },
      "source": [
        "#어렵다\n",
        "import sys\n",
        "input=sys.stdin.readline\n",
        "N=int(input())\n",
        "M=1\n",
        "A=[[p for p in input()] for _ in range(N)]\n",
        "def sc():\n",
        "\tglobal M\n",
        "\tfor y in range(N):\n",
        "\t\tr=1\n",
        "\t\tfor x in range(N-1):\n",
        "\t\t\tif A[y][x]==A[y][x+1]:r+=1;M=max(M,r)\n",
        "\t\t\telse:r=1\n",
        "\tfor x in range(N):\n",
        "\t\tr=1\n",
        "\t\tfor y in range(N-1):\n",
        "\t\t\tif A[y][x]==A[y+1][x]:r+=1;M=max(M,r)\n",
        "\t\t\telse:r=1\n",
        "\n",
        "for j in range(N-1):\n",
        "\tfor i in range(N):\n",
        "\t\tif A[j][i]!=A[j+1][i]:\n",
        "\t\t\tA[j][i],A[j+1][i]=A[j+1][i],A[j][i]\n",
        "\t\t\tsc()\n",
        "\t\t\tA[j][i],A[j+1][i]=A[j+1][i],A[j][i]\n",
        "\t\t\t\n",
        "for j in range(N):\n",
        "\tfor i in range(N-1):\t\t\t\n",
        "\t\tif A[j][i]!=A[j][i+1]:\n",
        "\t\t\tA[j][i],A[j][i+1]=A[j][i+1],A[j][i]\n",
        "\t\t\tsc()\n",
        "\t\t\tA[j][i],A[j][i+1]=A[j][i+1],A[j][i]\n",
        "\n",
        "print(M)"
      ],
      "execution_count": null,
      "outputs": []
    },
    {
      "cell_type": "markdown",
      "metadata": {
        "id": "Yo-DLXeE8MeU",
        "colab_type": "text"
      },
      "source": [
        "## 한수(1065)\n",
        "문제\n",
        "어떤 양의 정수 X의 각 자리가 등차수열을 이룬다면, 그 수를 한수라고 한다. 등차수열은 연속된 두 개의 수의 차이가 일정한 수열을 말한다. N이 주어졌을 때, 1보다 크거나 같고, N보다 작거나 같은 한수의 개수를 출력하는 프로그램을 작성하시오. \n",
        "\n",
        "입력\n",
        "첫째 줄에 1,000보다 작거나 같은 자연수 N이 주어진다.\n",
        "\n",
        "출력\n",
        "첫째 줄에 1보다 크거나 같고, N보다 작거나 같은 한수의 개수를 출력한다."
      ]
    },
    {
      "cell_type": "code",
      "metadata": {
        "id": "QsXQg23l8WBn",
        "colab_type": "code",
        "colab": {}
      },
      "source": [
        "N=int(input()) #N=1000보다 작거나 같은 자연수(최대 4자리수)\n",
        "def d(N):  #x의 각 자리가 등차수열\n",
        "  count=0\n",
        "  # x=list(str(range(1, N+1)))   #1<=x<=N\n",
        "  for i in range(1, N+1):\n",
        "    i=str(i)\n",
        "    if len(i)==1 or len(i)==2:\n",
        "      count+=1\n",
        "    if len(i) == 3:\n",
        "      if int(i[0])-int(i[1])==int(i[1])-int(i[2]):\n",
        "        count+=1\n",
        "  return count\n",
        "print(d(N))"
      ],
      "execution_count": null,
      "outputs": []
    },
    {
      "cell_type": "markdown",
      "metadata": {
        "id": "VyReGqb67_SI",
        "colab_type": "text"
      },
      "source": [
        "## 일곱난쟁이(2309)\n",
        "문제\n",
        "왕비를 피해 일곱 난쟁이들과 함께 평화롭게 생활하고 있던 백설공주에게 위기가 찾아왔다. 일과를 마치고 돌아온 난쟁이가 일곱 명이 아닌 아홉 명이었던 것이다.\n",
        "\n",
        "아홉 명의 난쟁이는 모두 자신이 \"백설 공주와 일곱 난쟁이\"의 주인공이라고 주장했다. 뛰어난 수학적 직관력을 가지고 있던 백설공주는, 다행스럽게도 일곱 난쟁이의 키의 합이 100이 됨을 기억해 냈다.\n",
        "\n",
        "아홉 난쟁이의 키가 주어졌을 때, 백설공주를 도와 일곱 난쟁이를 찾는 프로그램을 작성하시오.\n",
        "\n",
        "입력\n",
        "아홉 개의 줄에 걸쳐 난쟁이들의 키가 주어진다. 주어지는 키는 100을 넘지 않는 자연수이며, 아홉 난쟁이의 키는 모두 다르며, 가능한 정답이 여러 가지인 경우에는 아무거나 출력한다.\n",
        "\n",
        "출력\n",
        "일곱 난쟁이의 키를 오름차순으로 출력한다. 일곱 난쟁이를 찾을 수 없는 경우는 없다."
      ]
    },
    {
      "cell_type": "code",
      "metadata": {
        "id": "QSnl9U_S8XKB",
        "colab_type": "code",
        "colab": {}
      },
      "source": [
        "import sys \n",
        "TAERGET_NUM = 100 # 전체 합 구하기 \n",
        "my_sum = 0 \n",
        "data = [] \n",
        "for _ in range(9): \n",
        "  temp = int(sys.stdin.readline()) \n",
        "  data.append(temp) my_sum += temp # 오름차순 정렬 \n",
        "  data = sorted(data) # 2개를 빼서 비교 \n",
        "  for i in range(9): \n",
        "    for j in range(9): \n",
        "      temp = data[i] + data[j] \n",
        "      if my_sum - temp == TAERGET_NUM: \n",
        "        data.remove(i) data.remove \n",
        "        for k in range(9): \n",
        "          if k != i and k != j: \n",
        "            print(data[k]) sys.exit()​"
      ],
      "execution_count": null,
      "outputs": []
    },
    {
      "cell_type": "markdown",
      "metadata": {
        "id": "jTgDXa5Dg8qF",
        "colab_type": "text"
      },
      "source": [
        "# 다이나믹 프로그래밍\n"
      ]
    },
    {
      "cell_type": "markdown",
      "metadata": {
        "id": "ZilCXvWe0q88",
        "colab_type": "text"
      },
      "source": [
        "## 이친수(2193)\n",
        "문제\n",
        "0과 1로만 이루어진 수를 이진수라 한다. 이러한 이진수 중 특별한 성질을 갖는 것들이 있는데, 이들을 이친수(pinary number)라 한다. 이친수는 다음의 성질을 만족한다.\n",
        "\n",
        "이친수는 0으로 시작하지 않는다.\n",
        "이친수에서는 1이 두 번 연속으로 나타나지 않는다. 즉, 11을 부분 문자열로 갖지 않는다.\n",
        "예를 들면 1, 10, 100, 101, 1000, 1001 등이 이친수가 된다. 하지만 0010101이나 101101은 각각 1, 2번 규칙에 위배되므로 이친수가 아니다.\n",
        "\n",
        "N(1 ≤ N ≤ 90)이 주어졌을 때, N자리 이친수의 개수를 구하는 프로그램을 작성하시오.\n",
        "\n",
        "입력\n",
        "첫째 줄에 N이 주어진다.\n",
        "\n",
        "출력\n",
        "첫째 줄에 N자리 이친수의 개수를 출력한다."
      ]
    },
    {
      "cell_type": "code",
      "metadata": {
        "id": "0qyr1art00s-",
        "colab_type": "code",
        "colab": {}
      },
      "source": [
        "import sys \n",
        "if __name__ == '__main__': \n",
        "  n = int(sys.stdin.readline()) \n",
        "  d = [0, 1, 1] \n",
        "  for i in range(3, n+1): \n",
        "   d.append(d[i-1]+d[i-2]) \n",
        "  print(d[-1])​"
      ],
      "execution_count": null,
      "outputs": []
    },
    {
      "cell_type": "markdown",
      "metadata": {
        "id": "Fa0iPVCD0Q3S",
        "colab_type": "text"
      },
      "source": [
        "## 쉬운 계단수(10844)\n",
        "문제\n",
        "45656이란 수를 보자.\n",
        "\n",
        "이 수는 인접한 모든 자리수의 차이가 1이 난다. 이런 수를 계단 수라고 한다.\n",
        "\n",
        "세준이는 수의 길이가 N인 계단 수가 몇 개 있는지 궁금해졌다.\n",
        "\n",
        "N이 주어질 때, 길이가 N인 계단 수가 총 몇 개 있는지 구하는 프로그램을 작성하시오. (0으로 시작하는 수는 없다.)\n",
        "\n",
        "입력\n",
        "첫째 줄에 N이 주어진다. N은 1보다 크거나 같고, 100보다 작거나 같은 자연수이다.\n",
        "\n",
        "출력\n",
        "첫째 줄에 정답을 1,000,000,000으로 나눈 나머지를 출력한다."
      ]
    },
    {
      "cell_type": "code",
      "metadata": {
        "id": "PnWhDZvq0k8-",
        "colab_type": "code",
        "colab": {}
      },
      "source": [
        "n = int(input())\n",
        "dp = [[0 for i in range(10)] for j in range(101)]\n",
        "for i in range(1, 10):\n",
        "    dp[1][i] = 1\n",
        "for i in range(2, n + 1):\n",
        "    for j in range(10):\n",
        "        if j == 0:\n",
        "            dp[i][j] = dp[i - 1][1]\n",
        "        elif j == 9:\n",
        "            dp[i][j] = dp[i - 1][8]\n",
        "        else:\n",
        "            dp[i][j] = dp[i - 1][j - 1] + dp[i - 1][j + 1]\n",
        "print(sum(dp[n]) % 1000000000)"
      ],
      "execution_count": null,
      "outputs": []
    },
    {
      "cell_type": "markdown",
      "metadata": {
        "id": "bD4PV8rH_pCT",
        "colab_type": "text"
      },
      "source": [
        "## 카드구매하기(11052)\n",
        "\n",
        "문제\n",
        "요즘 민규네 동네에서는 스타트링크에서 만든 PS카드를 모으는 것이 유행이다.\n",
        "\n",
        "PS카드는 PS(Problem Solving)분야에서 유명한 사람들의 아이디와 얼굴이 적혀있는 카드이다. 각각의 카드에는 등급을 나타내는 색이 칠해져 있고, 다음과 같이 8가지가 있다.\n",
        "\n",
        "전설카드\n",
        "레드카드\n",
        "오렌지카드\n",
        "퍼플카드\n",
        "블루카드\n",
        "청록카드\n",
        "그린카드\n",
        "그레이카드\n",
        "카드는 카드팩의 형태로만 구매할 수 있고, 카드팩의 종류는 카드 1개가 포함된 카드팩, 카드 2개가 포함된 카드팩, ... 카드 N개가 포함된 카드팩과 같이 총 N가지가 존재한다.\n",
        "\n",
        "민규는 카드의 개수가 적은 팩이더라도 가격이 비싸면 높은 등급의 카드가 많이 들어있을 것이라는 미신을 믿고 있다. 따라서, 민규는 돈을 최대한 많이 지불해서 카드 N개 구매하려고 한다. 카드가 i개 포함된 카드팩의 가격은 Pi원이다.\n",
        "\n",
        "예를 들어, 카드팩이 총 4가지 종류가 있고, P1 = 1, P2 = 5, P3 = 6, P4 = 7인 경우에 민규가 카드 4개를 갖기 위해 지불해야 하는 금액의 최댓값은 10원이다. 2개 들어있는 카드팩을 2번 사면 된다.\n",
        "\n",
        "P1 = 5, P2 = 2, P3 = 8, P4 = 10인 경우에는 카드가 1개 들어있는 카드팩을 4번 사면 20원이고, 이 경우가 민규가 지불해야 하는 금액의 최댓값이다.\n",
        "\n",
        "마지막으로, P1 = 3, P2 = 5, P3 = 15, P4 = 16인 경우에는 3개 들어있는 카드팩과 1개 들어있는 카드팩을 구매해 18원을 지불하는 것이 최댓값이다.\n",
        "\n",
        "카드 팩의 가격이 주어졌을 때, N개의 카드를 구매하기 위해 민규가 지불해야 하는 금액의 최댓값을 구하는 프로그램을 작성하시오. N개보다 많은 개수의 카드를 산 다음, 나머지 카드를 버려서 N개를 만드는 것은 불가능하다. 즉, 구매한 카드팩에 포함되어 있는 카드 개수의 합은 N과 같아야 한다.\n",
        "\n",
        "입력\n",
        "첫째 줄에 민규가 구매하려고 하는 카드의 개수 N이 주어진다. (1 ≤ N ≤ 1,000)\n",
        "\n",
        "둘째 줄에는 Pi가 P1부터 PN까지 순서대로 주어진다. (1 ≤ Pi ≤ 10,000)\n",
        "\n",
        "출력\n",
        "첫째 줄에 민규가 카드 N개를 갖기 위해 지불해야 하는 금액의 최댓값을 출력한다."
      ]
    },
    {
      "cell_type": "code",
      "metadata": {
        "id": "4rgmgtps_pVY",
        "colab_type": "code",
        "colab": {}
      },
      "source": [
        "N = int(input())\n",
        "card = [0]\n",
        "card += list(map(int, input().split()))\n",
        "\n",
        "dp = [0] * (N+1)\n",
        "dp[1] = card[1]\n",
        "dp[2] = max(card[2], card[1]*2)\n",
        "\n",
        "for i in range(3, N+1):\n",
        "    dp[i] = card[i] \n",
        "    for j in range(1, i//2 + 1):\n",
        "        dp[i] = max(dp[i], dp[j] + dp[i-j])\n",
        "\n",
        "print(dp[N])"
      ],
      "execution_count": null,
      "outputs": []
    },
    {
      "cell_type": "markdown",
      "metadata": {
        "id": "dYUGiLV6_fGH",
        "colab_type": "text"
      },
      "source": [
        "## 1,2,3 더하기(9095)\n",
        "문제\n",
        "정수 4를 1, 2, 3의 합으로 나타내는 방법은 총 7가지가 있다. 합을 나타낼 때는 수를 1개 이상 사용해야 한다.\n",
        "\n",
        "1+1+1+1\n",
        "1+1+2\n",
        "1+2+1\n",
        "2+1+1\n",
        "2+2\n",
        "1+3\n",
        "3+1\n",
        "정수 n이 주어졌을 때, n을 1, 2, 3의 합으로 나타내는 방법의 수를 구하는 프로그램을 작성하시오.\n",
        "\n",
        "입력\n",
        "첫째 줄에 테스트 케이스의 개수 T가 주어진다. 각 테스트 케이스는 한 줄로 이루어져 있고, 정수 n이 주어진다. n은 양수이며 11보다 작다.\n",
        "\n",
        "출력\n",
        "각 테스트 케이스마다, n을 1, 2, 3의 합으로 나타내는 방법의 수를 출력한다."
      ]
    },
    {
      "cell_type": "code",
      "metadata": {
        "id": "mNkq3duC_mPe",
        "colab_type": "code",
        "colab": {}
      },
      "source": [
        "test_case_count = int(input())\n",
        "user_input_list = []\n",
        "\n",
        "integer_list = [1, 2, 4]\n",
        "for i in range(4, 11):\n",
        "    integer_list.append(sum(integer_list[-3:]))\n",
        "\n",
        "for i in range(test_case_count):\n",
        "    user_input_list.append(int(input()))\n",
        "\n",
        "for i in range(test_case_count):\n",
        "    print(integer_list[user_input_list[i] - 1])"
      ],
      "execution_count": null,
      "outputs": []
    },
    {
      "cell_type": "markdown",
      "metadata": {
        "id": "L81xAqDuhI0D",
        "colab_type": "text"
      },
      "source": [
        "## 2×n 타일링(11726)\n",
        "문제\n",
        "2×n 크기의 직사각형을 1×2, 2×1 타일로 채우는 방법의 수를 구하는 프로그램을 작성하시오.\n",
        "\n",
        "아래 그림은 2×5 크기의 직사각형을 채운 한 가지 방법의 예이다.\n",
        "\n",
        "입력\n",
        "첫째 줄에 n이 주어진다. (1 ≤ n ≤ 1,000)\n",
        "\n",
        "출력\n",
        "첫째 줄에 2×n 크기의 직사각형을 채우는 방법의 수를 10,007로 나눈 나머지를 출력한다.\n"
      ]
    },
    {
      "cell_type": "code",
      "metadata": {
        "id": "mv6dsGwEhIdG",
        "colab_type": "code",
        "colab": {}
      },
      "source": [
        "n = int(input()) \n",
        "def answer(n): \n",
        "    if n == 1: \n",
        "       fiboNum = 1 \n",
        "    elif n == 2: \n",
        "       fiboNum = 2 \n",
        "    elif n >= 3: \n",
        "        fibo = [0] * (n) \n",
        "        fibo[0] = 1 \n",
        "        fibo[1] = 2 \n",
        "        \n",
        "        for i in range(2, n): \n",
        "            fibo[i] = fibo[i-1] + fibo[i-2] \n",
        "        fiboNum = fibo[n-1] % 10007 \n",
        "    return fiboNum \n",
        "print(answer(n))"
      ],
      "execution_count": null,
      "outputs": []
    },
    {
      "cell_type": "markdown",
      "metadata": {
        "id": "LrRH5VvYB6Iy",
        "colab_type": "text"
      },
      "source": [
        "##1로만들기(1463)\n",
        "문제\n",
        "정수 X에 사용할 수 있는 연산은 다음과 같이 세 가지 이다.\n",
        "\n",
        "X가 3으로 나누어 떨어지면, 3으로 나눈다.<br>\n",
        "X가 2로 나누어 떨어지면, 2로 나눈다.<br>\n",
        "1을 뺀다.<br>\n",
        "정수 N이 주어졌을 때, 위와 같은 연산 세 개를 적절히 사용해서 1을 만들려고 한다. 연산을 사용하는 횟수의 최솟값을 출력하시오.\n",
        "\n",
        "입력\n",
        "첫째 줄에 1보다 크거나 같고, 106보다 작거나 같은 정수 N이 주어진다.\n",
        "\n",
        "출력\n",
        "첫째 줄에 연산을 하는 횟수의 최솟값을 출력한다.\n"
      ]
    },
    {
      "cell_type": "code",
      "metadata": {
        "id": "dFuVg0rTB9hb",
        "colab_type": "code",
        "colab": {
          "base_uri": "https://localhost:8080/",
          "height": 68
        },
        "outputId": "2578c138-fe3e-4620-d8a9-5b5b4452ed9d"
      },
      "source": [
        "N = int(input())\n",
        "\n",
        "result = [0 for _ in range(N + 1)] #N개만큼 0으로 리스트를 채움\n",
        "\n",
        "for i in range(1, N + 1): #1부터 N까지 돌면서 리스트에 값 저장\n",
        "    if i == 1:\n",
        "        result[i] = 0\n",
        "        continue\n",
        "    result[i] = result[i-1] + 1\n",
        "    if i % 3 == 0 and result[i//3] + 1 < result[i]:\n",
        "        result[i] = result[i//3] + 1\n",
        "    if i % 2 == 0 and result[i//2] + 1< result[i]:\n",
        "        result[i] = result[i//2] + 1\n",
        "        \n",
        "print(result[N])\n"
      ],
      "execution_count": null,
      "outputs": [
        {
          "output_type": "stream",
          "text": [
            "36\n",
            "4\n",
            "3\n"
          ],
          "name": "stdout"
        }
      ]
    },
    {
      "cell_type": "markdown",
      "metadata": {
        "id": "KoD7CTS7BWPA",
        "colab_type": "text"
      },
      "source": [
        "# 수학"
      ]
    },
    {
      "cell_type": "markdown",
      "metadata": {
        "id": "OJhjz-sKBW8x",
        "colab_type": "text"
      },
      "source": [
        "## 팩토리얼(10872)\n",
        "문제\n",
        "0보다 크거나 같은 정수 N이 주어진다. 이때, N!을 출력하는 프로그램을 작성하시오.\n",
        "\n",
        "입력\n",
        "첫째 줄에 정수 N(0 ≤ N ≤ 12)가 주어진다.\n",
        "\n",
        "출력\n",
        "첫째 줄에 N!을 출력한다."
      ]
    },
    {
      "cell_type": "code",
      "metadata": {
        "id": "q6lkDXFGBjCa",
        "colab_type": "code",
        "colab": {
          "base_uri": "https://localhost:8080/",
          "height": 51
        },
        "outputId": "e204a619-91fd-43af-9ad5-20095c35c0e2"
      },
      "source": [
        "N=int(input())\n",
        "a=[]\n",
        "for i in range(N,1,-1):\n",
        "  a.append(i)\n",
        "b=1\n",
        "for n in a:\n",
        "  b*=n\n",
        "print(b)"
      ],
      "execution_count": null,
      "outputs": [
        {
          "output_type": "stream",
          "text": [
            "4\n",
            "24\n"
          ],
          "name": "stdout"
        }
      ]
    },
    {
      "cell_type": "markdown",
      "metadata": {
        "id": "nC4DUeSi4TAR",
        "colab_type": "text"
      },
      "source": [
        "# Deque"
      ]
    },
    {
      "cell_type": "markdown",
      "metadata": {
        "id": "NnjxcvcE6UBk",
        "colab_type": "text"
      },
      "source": [
        "##덱(10866)\n",
        "정수를 저장하는 덱(Deque)를 구현한 다음, 입력으로 주어지는 명령을 처리하는 프로그램을 작성하시오.\n",
        "\n",
        "명령은 총 여덟 가지이다.\n",
        "\n",
        "push_front X: 정수 X를 덱의 앞에 넣는다.<br>\n",
        "push_back X: 정수 X를 덱의 뒤에 넣는다.<br>\n",
        "pop_front: 덱의 가장 앞에 있는 수를 빼고, 그 수를 출력한다. 만약, 덱에 들어있는 정수가 없는 경우에는 -1을 출력한다.<br>\n",
        "pop_back: 덱의 가장 뒤에 있는 수를 빼고, 그 수를 출력한다. 만약, 덱에 들어있는 정수가 없는 경우에는 -1을 출력한다.<br>\n",
        "size: 덱에 들어있는 정수의 개수를 출력한다.<br>\n",
        "empty: 덱이 비어있으면 1을, 아니면 0을 출력한다.<br>\n",
        "front: 덱의 가장 앞에 있는 정수를 출력한다. 만약 덱에 들어있는 정수가 없는 경우에는 -1을 출력한다.<br>\n",
        "back: 덱의 가장 뒤에 있는 정수를 출력한다. 만약 덱에 들어있는 정수가 없는 경우에는 -1을 출력한다.<br>\n",
        "\n",
        "입력\n",
        "첫째 줄에 주어지는 명령의 수 N (1 ≤ N ≤ 10,000)이 주어진다. 둘째 줄부터 N개의 줄에는 명령이 하나씩 주어진다. 주어지는 정수는 1보다 크거나 같고, 100,000보다 작거나 같다. 문제에 나와있지 않은 명령이 주어지는 경우는 없다.\n",
        "\n",
        "출력\n",
        "출력해야하는 명령이 주어질 때마다, 한 줄에 하나씩 출력한다."
      ]
    },
    {
      "cell_type": "code",
      "metadata": {
        "id": "JJKOENqGkTSx",
        "colab_type": "code",
        "colab": {}
      },
      "source": [
        "다른사람풀이\n",
        "import sys\n",
        "\n",
        "class Deque:\n",
        "    def __init__(self):\n",
        "        self.arr = list()\n",
        "        \n",
        "    def push_front(self, x):\n",
        "        self.arr.insert(0, x)\n",
        "    def push_back(self, x):\n",
        "        self.arr.append(x)\n",
        "    \n",
        "    def pop_front(self):\n",
        "        if(self.empty()):\n",
        "            return -1\n",
        "        else:\n",
        "            return self.arr.pop(0)\n",
        "    def pop_back(self):\n",
        "        if(self.empty()):\n",
        "            return -1\n",
        "        else:\n",
        "            return self.arr.pop()\n",
        "        \n",
        "    def front(self):\n",
        "        if(self.empty()):\n",
        "            return -1\n",
        "        else:\n",
        "            return self.arr[0]\n",
        "    def back(self):\n",
        "        if(self.empty()):\n",
        "            return -1\n",
        "        else:\n",
        "            return self.arr[-1]\n",
        "        \n",
        "    def empty(self):\n",
        "        return 1 if self.size() == 0 else 0\n",
        "    def size(self):\n",
        "        return len(self.arr)\n",
        "    \n",
        "N = int(sys.stdin.readline())\n",
        "deque = Deque()\n",
        "\n",
        "for _ in range(N):\n",
        "    input_split = sys.stdin.readline().split()\n",
        "    \n",
        "    order = input_split[0]\n",
        "    \n",
        "    if(order == 'push_front'):\n",
        "        deque.push_front(int(input_split[1]))\n",
        "    elif(order == 'push_back'):\n",
        "        deque.push_back(int(input_split[1]))\n",
        "    elif(order == 'pop_front'):\n",
        "        print(deque.pop_front())\n",
        "    elif(order == 'pop_back'):\n",
        "        print(deque.pop_back())\n",
        "    elif(order == 'front'):\n",
        "        print(deque.front())\n",
        "    elif(order == 'back'):\n",
        "        print(deque.back())\n",
        "    elif(order == 'empty'):\n",
        "        print(deque.empty())\n",
        "    elif(order == 'size'):\n",
        "        print(deque.size())"
      ],
      "execution_count": null,
      "outputs": []
    },
    {
      "cell_type": "code",
      "metadata": {
        "id": "zv6Nftajhpck",
        "colab_type": "code",
        "colab": {
          "base_uri": "https://localhost:8080/",
          "height": 51
        },
        "outputId": "9458d3f9-dfa0-42a7-e929-668ef28052c2"
      },
      "source": [
        "나의풀이\n",
        "N = int(input())\n",
        "deque = []\n",
        "for i in range(N):\n",
        "    cmd = input().split(' ')\n",
        "    if cmd[0] == 'push_front': #push_front //입력한 수를 앞에 넣는다 →어떻게?\n",
        "        deque.insert(0,int(cmd[1])) \n",
        "    if cmd[0] == 'push_back': #push_back //입력한 수를 뒤에 넣는다\n",
        "        deque.append(int(cmd[1])) \n",
        "    \n",
        "    elif cmd == 'pop_front': #pop_front //맨 앞에 있는 수를 빼고 출력\n",
        "        if not deque: #deque 아무것도 없으면 -1 출력\n",
        "            print('-1')\n",
        "        else:\n",
        "            print(deque[0]) \n",
        "            deque.pop(0)\n",
        "    elif cmd == 'pop_back': #pop_back //맨 뒤에 있는 수를 빼고 출력\n",
        "        if not deque: #deque 아무것도 없으면 -1 출력\n",
        "            print('-1')\n",
        "        else:\n",
        "            print(deque[-1]) \n",
        "            deque.pop(-1)        \n",
        "\n",
        "    elif cmd == 'size': #size //deque 길이 출력\n",
        "        print(len(deque)) \n",
        "    elif cmd == 'empty': #empty\n",
        "        if not deque: #deque 아무것도 없으면 1\n",
        "            print('1')\n",
        "        else: #deque 뭐라도 있으면 0출력\n",
        "            print('0')\n",
        "\n",
        "    elif cmd == 'front': #front\n",
        "        if not deque: \n",
        "            print('-1')\n",
        "        else: \n",
        "            print(deque[0])\n",
        "    elif cmd == 'back': #back\n",
        "        if not deque: \n",
        "            print('-1')\n",
        "        else: \n",
        "            print(deque[-1])"
      ],
      "execution_count": null,
      "outputs": [
        {
          "output_type": "stream",
          "text": [
            "1\n",
            "back\n"
          ],
          "name": "stdout"
        }
      ]
    },
    {
      "cell_type": "markdown",
      "metadata": {
        "id": "n5HjeGLK3a47",
        "colab_type": "text"
      },
      "source": [
        "# Queue"
      ]
    },
    {
      "cell_type": "markdown",
      "metadata": {
        "id": "YeeVfapD52kb",
        "colab_type": "text"
      },
      "source": [
        "##큐(10845)\n",
        "정수를 저장하는 큐를 구현한 다음, 입력으로 주어지는 명령을 처리하는 프로그램을 작성하시오.\n",
        "\n",
        "명령은 총 여섯 가지이다.\n",
        "\n",
        "push X: 정수 X를 큐에 넣는 연산이다.<br>\n",
        "pop: 큐에서 가장 앞에 있는 정수를 빼고, 그 수를 출력한다. 만약 큐에 들어있는 정수가 없는 경우에는 -1을 출력한다.<br>\n",
        "size: 큐에 들어있는 정수의 개수를 출력한다.<br>\n",
        "empty: 큐가 비어있으면 1, 아니면 0을 출력한다.<br>\n",
        "front: 큐의 가장 앞에 있는 정수를 출력한다. 만약 큐에 들어있는 정수가 없는 경우에는 -1을 출력한다.<br>\n",
        "back: 큐의 가장 뒤에 있는 정수를 출력한다. 만약 큐에 들어있는 정수가 없는 경우에는 -1을 출력한다.<br>\n",
        "\n",
        "입력\n",
        "첫째 줄에 주어지는 명령의 수 N (1 ≤ N ≤ 10,000)이 주어진다. 둘째 줄부터 N개의 줄에는 명령이 하나씩 주어진다. 주어지는 정수는 1보다 크거나 같고, 100,000보다 작거나 같다. 문제에 나와있지 않은 명령이 주어지는 경우는 없다.\n",
        "\n",
        "출력\n",
        "출력해야하는 명령이 주어질 때마다, 한 줄에 하나씩 출력한다."
      ]
    },
    {
      "cell_type": "code",
      "metadata": {
        "id": "-9StkbaYc88y",
        "colab_type": "code",
        "colab": {}
      },
      "source": [
        "다른사람풀이\n",
        "instruction = int(input()) \n",
        "queue = [] \n",
        "ins = {} \n",
        "for i in range(instruction): \n",
        "    ins[i] = input().split(' ') \n",
        "for i in range(instruction): \n",
        "    if ins[i][0] == 'push': \n",
        "        queue.append(int(ins[i][1])) \n",
        "    elif ins[i][0] == 'pop': \n",
        "        if len(queue) != 0: \n",
        "            print(queue.pop(0)) \n",
        "        else: print(-1) \n",
        "    elif ins[i][0] == 'size': \n",
        "        print(len(queue)) \n",
        "    elif ins[i][0] == 'empty': \n",
        "        if len(queue) == 0: \n",
        "            print(1) \n",
        "        else: \n",
        "            print(0) \n",
        "    elif ins[i][0] == 'front': # 맨 위 꺼내고 출력, 없으면 -1 \n",
        "        if len(queue) != 0: \n",
        "            print(queue[0]) \n",
        "        else: print(-1) \n",
        "    elif ins[i][0] == 'back': # 맨 위 꺼내고 출력, 없으면 -1 \n",
        "        if len(queue) != 0: \n",
        "            print(queue[-1]) \n",
        "        else: print(-1)"
      ],
      "execution_count": null,
      "outputs": []
    },
    {
      "cell_type": "code",
      "metadata": {
        "id": "S-csraAA6Iq2",
        "colab_type": "code",
        "colab": {}
      },
      "source": [
        "나의풀이\n",
        "N = int(input())\n",
        "queue = list()\n",
        "for i in range(N):\n",
        "  cmd = input()\n",
        "  if cmd.split()[0] == 'push':\n",
        "    queue.append(cmd.split()[1])\n",
        "  elif cmd == 'pop':\n",
        "    queue.pop(0)\n",
        "  elif cmd == 'size':\n",
        "    print(len(queue))\n",
        "  elif cmd == 'empty':\n",
        "    if not queue:\n",
        "      print('1')\n",
        "    else:\n",
        "      print('0')\n",
        "  elif cmd == 'front':\n",
        "    if not queue:\n",
        "      print('-1')\n",
        "    else:\n",
        "      print(queue[0])\n",
        "  elif cmd == 'back':\n",
        "    if not queue:\n",
        "      print('-1')\n",
        "    else:\n",
        "      print(queue[-1])"
      ],
      "execution_count": null,
      "outputs": []
    },
    {
      "cell_type": "markdown",
      "metadata": {
        "id": "7hn3AJjNXnHW",
        "colab_type": "text"
      },
      "source": [
        "# STACK\n",
        "\n"
      ]
    },
    {
      "cell_type": "markdown",
      "metadata": {
        "id": "3XuXrF1r0in8",
        "colab_type": "text"
      },
      "source": [
        "##스택(10828)\n",
        "정수를 저장하는 스택을 구현한 다음, 입력으로 주어지는 명령을 처리하는 프로그램을 작성하시오.\n",
        "\n",
        "명령은 총 다섯 가지이다.\n",
        "\n",
        "push X: 정수 X를 스택에 넣는 연산이다.<br>\n",
        "pop: 스택에서 가장 위에 있는 정수를 빼고, 그 수를 출력한다. 만약 스택에 들어있는 정수가 없는 경우에는 -1을 출력한다.<br>\n",
        "size: 스택에 들어있는 정수의 개수를 출력한다.<br>\n",
        "empty: 스택이 비어있으면 1, 아니면 0을 출력한다.<br>\n",
        "top: 스택의 가장 위에 있는 정수를 출력한다. 만약 스택에 들어있는 정수가 없는 경우에는 -1을 출력한다.<br>\n",
        "\n",
        "첫째 줄에 주어지는 명령의 수 N (1 ≤ N ≤ 10,000)이 주어진다. 둘째 줄부터 N개의 줄에는 명령이 하나씩 주어진다. 주어지는 정수는 1보다 크거나 같고, 100,000보다 작거나 같다. 문제에 나와있지 않은 명령이 주어지는 경우는 없다.\n",
        "\n",
        "출력해야하는 명령이 주어질 때마다, 한 줄에 하나씩 출력한다."
      ]
    },
    {
      "cell_type": "code",
      "metadata": {
        "id": "uHbTtXrnXtP8",
        "colab_type": "code",
        "colab": {}
      },
      "source": [
        "N = int(input())\n",
        "stack = list()\n",
        "for i in range(N):\n",
        "    cmd = input()\n",
        "    if cmd.split()[0] == 'push': #push //push 1이면 1을 stack에 쌓음\n",
        "        stack.append(int(cmd.split()[1])) \n",
        "    elif cmd == 'pop': #pop //맨 위에 있는 수를 빼고 출력\n",
        "        if not stack: #stack에 아무것도 없으면 -1 출력\n",
        "            print('-1')\n",
        "        else:\n",
        "            print(stack[-1]) \n",
        "            stack.pop(-1)\n",
        "    elif cmd == 'size': #size //stack의 길이 출력\n",
        "        print(len(stack)) \n",
        "    elif cmd == 'empty': #empty\n",
        "        if not stack: #stack에 아무것도 없으면 1\n",
        "            print('1')\n",
        "        else: #stack에 뭐라도 있으면 0출력\n",
        "            print('0')\n",
        "    elif cmd == 'top': #top //stack 가장 위에 있는 정수 출력\n",
        "        if not stack: #stack에 아무것도 없으면 -1출력\n",
        "            print('-1')\n",
        "        else: \n",
        "            print(stack[-1])"
      ],
      "execution_count": null,
      "outputs": []
    },
    {
      "cell_type": "markdown",
      "metadata": {
        "id": "4bA1bKeO0upG",
        "colab_type": "text"
      },
      "source": [
        "##스택수열(1874)\n",
        "문제\n",
        "스택 (stack)은 기본적인 자료구조 중 하나로, 컴퓨터 프로그램을 작성할 때 자주 이용되는 개념이다. 스택은 자료를 넣는 (push) 입구와 자료를 뽑는 (pop) 입구가 같아 제일 나중에 들어간 자료가 제일 먼저 나오는 (LIFO, Last in First out) 특성을 가지고 있다.\n",
        "\n",
        "1부터 n까지의 수를 스택에 넣었다가 뽑아 늘어놓음으로써, 하나의 수열을 만들 수 있다. 이때, 스택에 push하는 순서는 반드시 오름차순을 지키도록 한다고 하자. 임의의 수열이 주어졌을 때 스택을 이용해 그 수열을 만들 수 있는지 없는지, 있다면 어떤 순서로 push와 pop 연산을 수행해야 하는지를 알아낼 수 있다. 이를 계산하는 프로그램을 작성하라.\n",
        "\n",
        "입력\n",
        "첫 줄에 n (1 ≤ n ≤ 100,000)이 주어진다. 둘째 줄부터 n개의 줄에는 수열을 이루는 1이상 n이하의 정수가 하나씩 순서대로 주어진다. 물론 같은 정수가 두 번 나오는 일은 없다.\n",
        "\n",
        "출력\n",
        "입력된 수열을 만들기 위해 필요한 연산을 한 줄에 한 개씩 출력한다. push연산은 +로, pop 연산은 -로 표현하도록 한다. 불가능한 경우 NO를 출력한다."
      ]
    },
    {
      "cell_type": "code",
      "metadata": {
        "id": "kGy5j-C40t1p",
        "colab_type": "code",
        "colab": {}
      },
      "source": [
        "#무슨말인지 문제조차 이해하기 어려움\n",
        "class Stack:\n",
        "    def __init__(self):\n",
        "        self.list = []\n",
        " \n",
        "    def push(self, num):\n",
        "        self.list.append(num)\n",
        " \n",
        "    def pop(self):\n",
        "        if self.size() == 0:\n",
        "            return -1\n",
        "        return self.list.pop()\n",
        " \n",
        "    def size(self):\n",
        "        return len(self.list)\n",
        " \n",
        "    def empty(self):\n",
        "        return 1 if len(self.list) == 0 else 0\n",
        " \n",
        "    def top(self):\n",
        "        return self.list[-1] if self.size() != 0 else -1\n",
        " \n",
        "#몇개의 숫자를 받을건지\n",
        "num = int(input())\n",
        "#문제를 풀기위해 사용한 stack\n",
        "stack = Stack()\n",
        "#입력을 저장하기 위한 list\n",
        "inputs = []\n",
        "#출력을 저장하기 위한 list\n",
        "outputs = []\n",
        "idx = 0\n",
        " \n",
        "#입력을 받아 inputs 리스트에 저장\n",
        "for i in range(num):\n",
        "    inputs.append(int(input()))\n",
        " \n",
        "#for loop를 돌며 각 loop의 시작에서 push를 하며 시작\n",
        "for i in range(num):\n",
        "    stack.push(i+1)\n",
        "    outputs.append(\"+\")\n",
        " \n",
        "    #idx가 전체 숫자의 개수보다 큰 경우가 이 문제를 풀지 못하는경우\n",
        "    #그러한 경우 발생시 while에서 pop을 하지 않기 떄문에 stack에 숫자가 남게됨\n",
        "    while idx < num and stack.top() == inputs[idx]:\n",
        "        stack.pop()\n",
        "        outputs.append(\"-\")\n",
        "        idx += 1\n",
        " \n",
        "#숫자가 남은 경우 이 문제를 풀지 못하는 경우 \"NO\"를 출력\n",
        "if not stack.empty():\n",
        "    print(\"NO\")\n",
        "else:\n",
        "    for str in outputs:\n",
        "        print(str)"
      ],
      "execution_count": null,
      "outputs": []
    },
    {
      "cell_type": "markdown",
      "metadata": {
        "id": "1EarEiWSRR2e",
        "colab_type": "text"
      },
      "source": [
        "# 거스름돈(5585) 그리디알고리즘\n",
        "타로는 자주 JOI잡화점에서 물건을 산다. JOI잡화점에는 잔돈으로 500엔, 100엔, 50엔, 10엔, 5엔, 1엔이 충분히 있고, 언제나 거스름돈 개수가 가장 적게 잔돈을 준다. 타로가 JOI잡화점에서 물건을 사고 카운터에서 1000엔 지폐를 한장 냈을 때, 받을 잔돈에 포함된 잔돈의 개수를 구하는 프로그램을 작성하시오.\n",
        "예를 들어 입력된 예1의 경우에는 아래 그림에서 처럼 4개를 출력해야 한다.\n",
        "\n",
        "입력은 한줄로 이루어져있고, 타로가 지불할 돈(1 이상 1000미만의 정수) 1개가 쓰여져있다.\n",
        "\n",
        "제출할 출력 파일은 1행으로만 되어 있다. 잔돈에 포함된 매수를 출력하시오.\n",
        "\n",
        "예제 input=380 output=4\n",
        "\n",
        "\n",
        "\n"
      ]
    },
    {
      "cell_type": "code",
      "metadata": {
        "id": "fesETBn08Yr5",
        "colab_type": "code",
        "colab": {
          "base_uri": "https://localhost:8080/",
          "height": 51
        },
        "outputId": "7608cd48-62b2-45d9-e543-ffaca07bc756"
      },
      "source": [
        "a = 1000 - int(input()) #얼마짜리 물건을 사는지 입력받고 1000에서 빼기 \n",
        "coin = (500,100,50,10,5,1) \n",
        "def countcoin(a, coin):\n",
        "  count = 0 #동전의 개수를 0으로 초기화 \n",
        "  for i in coin: #i가 첫번째면 500, i가 두번째면 100, i가 세번째면 50 등의 순서로 진행하면서 index를 준다 \n",
        "    count += int(a/i) #예를 들어, i가 첫번째인 경우 500원짜리 동전이 몇 개까지 커버가능한지를 센다 \n",
        "    a -= int(a/i)*i #동전을 센 금액만큼 빼주고 다시 for 루프가 반복될 수 있도록 한다 \n",
        "  return count #동전 개수를 몇개인지 return한다 \n",
        "print(countcoin(a, coin)) #함수의 결과를 출력한다\n",
        "\n",
        "#숏코딩\n",
        "# a=1000-int(input())\n",
        "# print(a//500+a//100%5+a//50%2+a//10%5+a//5%2+a%5)"
      ],
      "execution_count": null,
      "outputs": [
        {
          "output_type": "stream",
          "text": [
            "380\n",
            "4\n"
          ],
          "name": "stdout"
        }
      ]
    }
  ]
}