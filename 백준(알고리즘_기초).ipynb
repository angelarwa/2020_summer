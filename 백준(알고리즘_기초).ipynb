{
  "nbformat": 4,
  "nbformat_minor": 0,
  "metadata": {
    "colab": {
      "name": "백준(알고리즘 기초)",
      "provenance": [],
      "collapsed_sections": [
        "jTgDXa5Dg8qF",
        "nC4DUeSi4TAR",
        "n5HjeGLK3a47",
        "YeeVfapD52kb"
      ],
      "authorship_tag": "ABX9TyNmR3KOOo0UXMkL24iwqMGt"
    },
    "kernelspec": {
      "name": "python3",
      "display_name": "Python 3"
    }
  },
  "cells": [
    {
      "cell_type": "code",
      "metadata": {
        "id": "J3_mXL_ngKqB",
        "colab_type": "code",
        "colab": {}
      },
      "source": [
        ""
      ],
      "execution_count": null,
      "outputs": []
    },
    {
      "cell_type": "markdown",
      "metadata": {
        "id": "KoD7CTS7BWPA",
        "colab_type": "text"
      },
      "source": [
        "# 수학"
      ]
    },
    {
      "cell_type": "markdown",
      "metadata": {
        "id": "OJhjz-sKBW8x",
        "colab_type": "text"
      },
      "source": [
        "## 팩토리얼(10872)\n",
        "문제\n",
        "0보다 크거나 같은 정수 N이 주어진다. 이때, N!을 출력하는 프로그램을 작성하시오.\n",
        "\n",
        "입력\n",
        "첫째 줄에 정수 N(0 ≤ N ≤ 12)가 주어진다.\n",
        "\n",
        "출력\n",
        "첫째 줄에 N!을 출력한다."
      ]
    },
    {
      "cell_type": "code",
      "metadata": {
        "id": "q6lkDXFGBjCa",
        "colab_type": "code",
        "colab": {
          "base_uri": "https://localhost:8080/",
          "height": 51
        },
        "outputId": "e204a619-91fd-43af-9ad5-20095c35c0e2"
      },
      "source": [
        "N=int(input())\n",
        "a=[]\n",
        "for i in range(N,1,-1):\n",
        "  a.append(i)\n",
        "b=1\n",
        "for n in a:\n",
        "  b*=n\n",
        "print(b)"
      ],
      "execution_count": 4,
      "outputs": [
        {
          "output_type": "stream",
          "text": [
            "4\n",
            "24\n"
          ],
          "name": "stdout"
        }
      ]
    },
    {
      "cell_type": "markdown",
      "metadata": {
        "id": "jTgDXa5Dg8qF",
        "colab_type": "text"
      },
      "source": [
        "# 다이나믹 프로그래밍\n"
      ]
    },
    {
      "cell_type": "markdown",
      "metadata": {
        "id": "L81xAqDuhI0D",
        "colab_type": "text"
      },
      "source": [
        "## 2×n 타일링(11726)\n",
        "문제\n",
        "2×n 크기의 직사각형을 1×2, 2×1 타일로 채우는 방법의 수를 구하는 프로그램을 작성하시오.\n",
        "\n",
        "아래 그림은 2×5 크기의 직사각형을 채운 한 가지 방법의 예이다.\n",
        "\n",
        "입력\n",
        "첫째 줄에 n이 주어진다. (1 ≤ n ≤ 1,000)\n",
        "\n",
        "출력\n",
        "첫째 줄에 2×n 크기의 직사각형을 채우는 방법의 수를 10,007로 나눈 나머지를 출력한다.\n"
      ]
    },
    {
      "cell_type": "code",
      "metadata": {
        "id": "mv6dsGwEhIdG",
        "colab_type": "code",
        "colab": {}
      },
      "source": [
        "n = int(input()) \n",
        "def answer(n): \n",
        "    if n == 1: \n",
        "       fiboNum = 1 \n",
        "    elif n == 2: \n",
        "       fiboNum = 2 \n",
        "    elif n >= 3: \n",
        "        fibo = [0] * (n) \n",
        "        fibo[0] = 1 \n",
        "        fibo[1] = 2 \n",
        "        \n",
        "        for i in range(2, n): \n",
        "            fibo[i] = fibo[i-1] + fibo[i-2] \n",
        "        fiboNum = fibo[n-1] % 10007 \n",
        "    return fiboNum \n",
        "print(answer(n))"
      ],
      "execution_count": null,
      "outputs": []
    },
    {
      "cell_type": "markdown",
      "metadata": {
        "id": "LrRH5VvYB6Iy",
        "colab_type": "text"
      },
      "source": [
        "##1로만들기(1463)\n",
        "문제\n",
        "정수 X에 사용할 수 있는 연산은 다음과 같이 세 가지 이다.\n",
        "\n",
        "X가 3으로 나누어 떨어지면, 3으로 나눈다.<br>\n",
        "X가 2로 나누어 떨어지면, 2로 나눈다.<br>\n",
        "1을 뺀다.<br>\n",
        "정수 N이 주어졌을 때, 위와 같은 연산 세 개를 적절히 사용해서 1을 만들려고 한다. 연산을 사용하는 횟수의 최솟값을 출력하시오.\n",
        "\n",
        "입력\n",
        "첫째 줄에 1보다 크거나 같고, 106보다 작거나 같은 정수 N이 주어진다.\n",
        "\n",
        "출력\n",
        "첫째 줄에 연산을 하는 횟수의 최솟값을 출력한다.\n"
      ]
    },
    {
      "cell_type": "code",
      "metadata": {
        "id": "dFuVg0rTB9hb",
        "colab_type": "code",
        "colab": {
          "base_uri": "https://localhost:8080/",
          "height": 68
        },
        "outputId": "2578c138-fe3e-4620-d8a9-5b5b4452ed9d"
      },
      "source": [
        "N = int(input())\n",
        "\n",
        "result = [0 for _ in range(N + 1)] #N개만큼 0으로 리스트를 채움\n",
        "\n",
        "for i in range(1, N + 1): #1부터 N까지 돌면서 리스트에 값 저장\n",
        "    if i == 1:\n",
        "        result[i] = 0\n",
        "        continue\n",
        "    result[i] = result[i-1] + 1\n",
        "    if i % 3 == 0 and result[i//3] + 1 < result[i]:\n",
        "        result[i] = result[i//3] + 1\n",
        "    if i % 2 == 0 and result[i//2] + 1< result[i]:\n",
        "        result[i] = result[i//2] + 1\n",
        "        \n",
        "print(result[N])\n"
      ],
      "execution_count": null,
      "outputs": [
        {
          "output_type": "stream",
          "text": [
            "36\n",
            "4\n",
            "3\n"
          ],
          "name": "stdout"
        }
      ]
    },
    {
      "cell_type": "markdown",
      "metadata": {
        "id": "nC4DUeSi4TAR",
        "colab_type": "text"
      },
      "source": [
        "# Deque"
      ]
    },
    {
      "cell_type": "markdown",
      "metadata": {
        "id": "NnjxcvcE6UBk",
        "colab_type": "text"
      },
      "source": [
        "##덱(10866)\n",
        "정수를 저장하는 덱(Deque)를 구현한 다음, 입력으로 주어지는 명령을 처리하는 프로그램을 작성하시오.\n",
        "\n",
        "명령은 총 여덟 가지이다.\n",
        "\n",
        "push_front X: 정수 X를 덱의 앞에 넣는다.<br>\n",
        "push_back X: 정수 X를 덱의 뒤에 넣는다.<br>\n",
        "pop_front: 덱의 가장 앞에 있는 수를 빼고, 그 수를 출력한다. 만약, 덱에 들어있는 정수가 없는 경우에는 -1을 출력한다.<br>\n",
        "pop_back: 덱의 가장 뒤에 있는 수를 빼고, 그 수를 출력한다. 만약, 덱에 들어있는 정수가 없는 경우에는 -1을 출력한다.<br>\n",
        "size: 덱에 들어있는 정수의 개수를 출력한다.<br>\n",
        "empty: 덱이 비어있으면 1을, 아니면 0을 출력한다.<br>\n",
        "front: 덱의 가장 앞에 있는 정수를 출력한다. 만약 덱에 들어있는 정수가 없는 경우에는 -1을 출력한다.<br>\n",
        "back: 덱의 가장 뒤에 있는 정수를 출력한다. 만약 덱에 들어있는 정수가 없는 경우에는 -1을 출력한다.<br>\n",
        "\n",
        "입력\n",
        "첫째 줄에 주어지는 명령의 수 N (1 ≤ N ≤ 10,000)이 주어진다. 둘째 줄부터 N개의 줄에는 명령이 하나씩 주어진다. 주어지는 정수는 1보다 크거나 같고, 100,000보다 작거나 같다. 문제에 나와있지 않은 명령이 주어지는 경우는 없다.\n",
        "\n",
        "출력\n",
        "출력해야하는 명령이 주어질 때마다, 한 줄에 하나씩 출력한다."
      ]
    },
    {
      "cell_type": "code",
      "metadata": {
        "id": "JJKOENqGkTSx",
        "colab_type": "code",
        "colab": {}
      },
      "source": [
        "다른사람풀이\n",
        "import sys\n",
        "\n",
        "class Deque:\n",
        "    def __init__(self):\n",
        "        self.arr = list()\n",
        "        \n",
        "    def push_front(self, x):\n",
        "        self.arr.insert(0, x)\n",
        "    def push_back(self, x):\n",
        "        self.arr.append(x)\n",
        "    \n",
        "    def pop_front(self):\n",
        "        if(self.empty()):\n",
        "            return -1\n",
        "        else:\n",
        "            return self.arr.pop(0)\n",
        "    def pop_back(self):\n",
        "        if(self.empty()):\n",
        "            return -1\n",
        "        else:\n",
        "            return self.arr.pop()\n",
        "        \n",
        "    def front(self):\n",
        "        if(self.empty()):\n",
        "            return -1\n",
        "        else:\n",
        "            return self.arr[0]\n",
        "    def back(self):\n",
        "        if(self.empty()):\n",
        "            return -1\n",
        "        else:\n",
        "            return self.arr[-1]\n",
        "        \n",
        "    def empty(self):\n",
        "        return 1 if self.size() == 0 else 0\n",
        "    def size(self):\n",
        "        return len(self.arr)\n",
        "    \n",
        "N = int(sys.stdin.readline())\n",
        "deque = Deque()\n",
        "\n",
        "for _ in range(N):\n",
        "    input_split = sys.stdin.readline().split()\n",
        "    \n",
        "    order = input_split[0]\n",
        "    \n",
        "    if(order == 'push_front'):\n",
        "        deque.push_front(int(input_split[1]))\n",
        "    elif(order == 'push_back'):\n",
        "        deque.push_back(int(input_split[1]))\n",
        "    elif(order == 'pop_front'):\n",
        "        print(deque.pop_front())\n",
        "    elif(order == 'pop_back'):\n",
        "        print(deque.pop_back())\n",
        "    elif(order == 'front'):\n",
        "        print(deque.front())\n",
        "    elif(order == 'back'):\n",
        "        print(deque.back())\n",
        "    elif(order == 'empty'):\n",
        "        print(deque.empty())\n",
        "    elif(order == 'size'):\n",
        "        print(deque.size())"
      ],
      "execution_count": null,
      "outputs": []
    },
    {
      "cell_type": "code",
      "metadata": {
        "id": "zv6Nftajhpck",
        "colab_type": "code",
        "colab": {
          "base_uri": "https://localhost:8080/",
          "height": 51
        },
        "outputId": "9458d3f9-dfa0-42a7-e929-668ef28052c2"
      },
      "source": [
        "나의풀이\n",
        "N = int(input())\n",
        "deque = []\n",
        "for i in range(N):\n",
        "    cmd = input().split(' ')\n",
        "    if cmd[0] == 'push_front': #push_front //입력한 수를 앞에 넣는다 →어떻게?\n",
        "        deque.insert(0,int(cmd[1])) \n",
        "    if cmd[0] == 'push_back': #push_back //입력한 수를 뒤에 넣는다\n",
        "        deque.append(int(cmd[1])) \n",
        "    \n",
        "    elif cmd == 'pop_front': #pop_front //맨 앞에 있는 수를 빼고 출력\n",
        "        if not deque: #deque 아무것도 없으면 -1 출력\n",
        "            print('-1')\n",
        "        else:\n",
        "            print(deque[0]) \n",
        "            deque.pop(0)\n",
        "    elif cmd == 'pop_back': #pop_back //맨 뒤에 있는 수를 빼고 출력\n",
        "        if not deque: #deque 아무것도 없으면 -1 출력\n",
        "            print('-1')\n",
        "        else:\n",
        "            print(deque[-1]) \n",
        "            deque.pop(-1)        \n",
        "\n",
        "    elif cmd == 'size': #size //deque 길이 출력\n",
        "        print(len(deque)) \n",
        "    elif cmd == 'empty': #empty\n",
        "        if not deque: #deque 아무것도 없으면 1\n",
        "            print('1')\n",
        "        else: #deque 뭐라도 있으면 0출력\n",
        "            print('0')\n",
        "\n",
        "    elif cmd == 'front': #front\n",
        "        if not deque: \n",
        "            print('-1')\n",
        "        else: \n",
        "            print(deque[0])\n",
        "    elif cmd == 'back': #back\n",
        "        if not deque: \n",
        "            print('-1')\n",
        "        else: \n",
        "            print(deque[-1])"
      ],
      "execution_count": null,
      "outputs": [
        {
          "output_type": "stream",
          "text": [
            "1\n",
            "back\n"
          ],
          "name": "stdout"
        }
      ]
    },
    {
      "cell_type": "markdown",
      "metadata": {
        "id": "n5HjeGLK3a47",
        "colab_type": "text"
      },
      "source": [
        "# Queue"
      ]
    },
    {
      "cell_type": "markdown",
      "metadata": {
        "id": "YeeVfapD52kb",
        "colab_type": "text"
      },
      "source": [
        "##큐(10845)\n",
        "정수를 저장하는 큐를 구현한 다음, 입력으로 주어지는 명령을 처리하는 프로그램을 작성하시오.\n",
        "\n",
        "명령은 총 여섯 가지이다.\n",
        "\n",
        "push X: 정수 X를 큐에 넣는 연산이다.<br>\n",
        "pop: 큐에서 가장 앞에 있는 정수를 빼고, 그 수를 출력한다. 만약 큐에 들어있는 정수가 없는 경우에는 -1을 출력한다.<br>\n",
        "size: 큐에 들어있는 정수의 개수를 출력한다.<br>\n",
        "empty: 큐가 비어있으면 1, 아니면 0을 출력한다.<br>\n",
        "front: 큐의 가장 앞에 있는 정수를 출력한다. 만약 큐에 들어있는 정수가 없는 경우에는 -1을 출력한다.<br>\n",
        "back: 큐의 가장 뒤에 있는 정수를 출력한다. 만약 큐에 들어있는 정수가 없는 경우에는 -1을 출력한다.<br>\n",
        "\n",
        "입력\n",
        "첫째 줄에 주어지는 명령의 수 N (1 ≤ N ≤ 10,000)이 주어진다. 둘째 줄부터 N개의 줄에는 명령이 하나씩 주어진다. 주어지는 정수는 1보다 크거나 같고, 100,000보다 작거나 같다. 문제에 나와있지 않은 명령이 주어지는 경우는 없다.\n",
        "\n",
        "출력\n",
        "출력해야하는 명령이 주어질 때마다, 한 줄에 하나씩 출력한다."
      ]
    },
    {
      "cell_type": "code",
      "metadata": {
        "id": "-9StkbaYc88y",
        "colab_type": "code",
        "colab": {}
      },
      "source": [
        "다른사람풀이\n",
        "instruction = int(input()) \n",
        "queue = [] \n",
        "ins = {} \n",
        "for i in range(instruction): \n",
        "    ins[i] = input().split(' ') \n",
        "for i in range(instruction): \n",
        "    if ins[i][0] == 'push': \n",
        "        queue.append(int(ins[i][1])) \n",
        "    elif ins[i][0] == 'pop': \n",
        "        if len(queue) != 0: \n",
        "            print(queue.pop(0)) \n",
        "        else: print(-1) \n",
        "    elif ins[i][0] == 'size': \n",
        "        print(len(queue)) \n",
        "    elif ins[i][0] == 'empty': \n",
        "        if len(queue) == 0: \n",
        "            print(1) \n",
        "        else: \n",
        "            print(0) \n",
        "    elif ins[i][0] == 'front': # 맨 위 꺼내고 출력, 없으면 -1 \n",
        "        if len(queue) != 0: \n",
        "            print(queue[0]) \n",
        "        else: print(-1) \n",
        "    elif ins[i][0] == 'back': # 맨 위 꺼내고 출력, 없으면 -1 \n",
        "        if len(queue) != 0: \n",
        "            print(queue[-1]) \n",
        "        else: print(-1)"
      ],
      "execution_count": null,
      "outputs": []
    },
    {
      "cell_type": "code",
      "metadata": {
        "id": "S-csraAA6Iq2",
        "colab_type": "code",
        "colab": {}
      },
      "source": [
        "나의풀이\n",
        "N = int(input())\n",
        "queue = list()\n",
        "for i in range(N):\n",
        "  cmd = input()\n",
        "  if cmd.split()[0] == 'push':\n",
        "    queue.append(cmd.split()[1])\n",
        "  elif cmd == 'pop':\n",
        "    queue.pop(0)\n",
        "  elif cmd == 'size':\n",
        "    print(len(queue))\n",
        "  elif cmd == 'empty':\n",
        "    if not queue:\n",
        "      print('1')\n",
        "    else:\n",
        "      print('0')\n",
        "  elif cmd == 'front':\n",
        "    if not queue:\n",
        "      print('-1')\n",
        "    else:\n",
        "      print(queue[0])\n",
        "  elif cmd == 'back':\n",
        "    if not queue:\n",
        "      print('-1')\n",
        "    else:\n",
        "      print(queue[-1])"
      ],
      "execution_count": null,
      "outputs": []
    },
    {
      "cell_type": "markdown",
      "metadata": {
        "id": "7hn3AJjNXnHW",
        "colab_type": "text"
      },
      "source": [
        "# STACK\n",
        "\n"
      ]
    },
    {
      "cell_type": "markdown",
      "metadata": {
        "id": "3XuXrF1r0in8",
        "colab_type": "text"
      },
      "source": [
        "##스택(10828)\n",
        "정수를 저장하는 스택을 구현한 다음, 입력으로 주어지는 명령을 처리하는 프로그램을 작성하시오.\n",
        "\n",
        "명령은 총 다섯 가지이다.\n",
        "\n",
        "push X: 정수 X를 스택에 넣는 연산이다.<br>\n",
        "pop: 스택에서 가장 위에 있는 정수를 빼고, 그 수를 출력한다. 만약 스택에 들어있는 정수가 없는 경우에는 -1을 출력한다.<br>\n",
        "size: 스택에 들어있는 정수의 개수를 출력한다.<br>\n",
        "empty: 스택이 비어있으면 1, 아니면 0을 출력한다.<br>\n",
        "top: 스택의 가장 위에 있는 정수를 출력한다. 만약 스택에 들어있는 정수가 없는 경우에는 -1을 출력한다.<br>\n",
        "\n",
        "첫째 줄에 주어지는 명령의 수 N (1 ≤ N ≤ 10,000)이 주어진다. 둘째 줄부터 N개의 줄에는 명령이 하나씩 주어진다. 주어지는 정수는 1보다 크거나 같고, 100,000보다 작거나 같다. 문제에 나와있지 않은 명령이 주어지는 경우는 없다.\n",
        "\n",
        "출력해야하는 명령이 주어질 때마다, 한 줄에 하나씩 출력한다."
      ]
    },
    {
      "cell_type": "code",
      "metadata": {
        "id": "uHbTtXrnXtP8",
        "colab_type": "code",
        "colab": {}
      },
      "source": [
        "N = int(input())\n",
        "stack = list()\n",
        "for i in range(N):\n",
        "    cmd = input()\n",
        "    if cmd.split()[0] == 'push': #push //push 1이면 1을 stack에 쌓음\n",
        "        stack.append(int(cmd.split()[1])) \n",
        "    elif cmd == 'pop': #pop //맨 위에 있는 수를 빼고 출력\n",
        "        if not stack: #stack에 아무것도 없으면 -1 출력\n",
        "            print('-1')\n",
        "        else:\n",
        "            print(stack[-1]) \n",
        "            stack.pop(-1)\n",
        "    elif cmd == 'size': #size //stack의 길이 출력\n",
        "        print(len(stack)) \n",
        "    elif cmd == 'empty': #empty\n",
        "        if not stack: #stack에 아무것도 없으면 1\n",
        "            print('1')\n",
        "        else: #stack에 뭐라도 있으면 0출력\n",
        "            print('0')\n",
        "    elif cmd == 'top': #top //stack 가장 위에 있는 정수 출력\n",
        "        if not stack: #stack에 아무것도 없으면 -1출력\n",
        "            print('-1')\n",
        "        else: \n",
        "            print(stack[-1])"
      ],
      "execution_count": null,
      "outputs": []
    },
    {
      "cell_type": "markdown",
      "metadata": {
        "id": "4bA1bKeO0upG",
        "colab_type": "text"
      },
      "source": [
        "##스택수열(1874)\n",
        "문제\n",
        "스택 (stack)은 기본적인 자료구조 중 하나로, 컴퓨터 프로그램을 작성할 때 자주 이용되는 개념이다. 스택은 자료를 넣는 (push) 입구와 자료를 뽑는 (pop) 입구가 같아 제일 나중에 들어간 자료가 제일 먼저 나오는 (LIFO, Last in First out) 특성을 가지고 있다.\n",
        "\n",
        "1부터 n까지의 수를 스택에 넣었다가 뽑아 늘어놓음으로써, 하나의 수열을 만들 수 있다. 이때, 스택에 push하는 순서는 반드시 오름차순을 지키도록 한다고 하자. 임의의 수열이 주어졌을 때 스택을 이용해 그 수열을 만들 수 있는지 없는지, 있다면 어떤 순서로 push와 pop 연산을 수행해야 하는지를 알아낼 수 있다. 이를 계산하는 프로그램을 작성하라.\n",
        "\n",
        "입력\n",
        "첫 줄에 n (1 ≤ n ≤ 100,000)이 주어진다. 둘째 줄부터 n개의 줄에는 수열을 이루는 1이상 n이하의 정수가 하나씩 순서대로 주어진다. 물론 같은 정수가 두 번 나오는 일은 없다.\n",
        "\n",
        "출력\n",
        "입력된 수열을 만들기 위해 필요한 연산을 한 줄에 한 개씩 출력한다. push연산은 +로, pop 연산은 -로 표현하도록 한다. 불가능한 경우 NO를 출력한다."
      ]
    },
    {
      "cell_type": "code",
      "metadata": {
        "id": "kGy5j-C40t1p",
        "colab_type": "code",
        "colab": {}
      },
      "source": [
        "#무슨말인지 문제조차 이해하기 어려움\n",
        "class Stack:\n",
        "    def __init__(self):\n",
        "        self.list = []\n",
        " \n",
        "    def push(self, num):\n",
        "        self.list.append(num)\n",
        " \n",
        "    def pop(self):\n",
        "        if self.size() == 0:\n",
        "            return -1\n",
        "        return self.list.pop()\n",
        " \n",
        "    def size(self):\n",
        "        return len(self.list)\n",
        " \n",
        "    def empty(self):\n",
        "        return 1 if len(self.list) == 0 else 0\n",
        " \n",
        "    def top(self):\n",
        "        return self.list[-1] if self.size() != 0 else -1\n",
        " \n",
        "#몇개의 숫자를 받을건지\n",
        "num = int(input())\n",
        "#문제를 풀기위해 사용한 stack\n",
        "stack = Stack()\n",
        "#입력을 저장하기 위한 list\n",
        "inputs = []\n",
        "#출력을 저장하기 위한 list\n",
        "outputs = []\n",
        "idx = 0\n",
        " \n",
        "#입력을 받아 inputs 리스트에 저장\n",
        "for i in range(num):\n",
        "    inputs.append(int(input()))\n",
        " \n",
        "#for loop를 돌며 각 loop의 시작에서 push를 하며 시작\n",
        "for i in range(num):\n",
        "    stack.push(i+1)\n",
        "    outputs.append(\"+\")\n",
        " \n",
        "    #idx가 전체 숫자의 개수보다 큰 경우가 이 문제를 풀지 못하는경우\n",
        "    #그러한 경우 발생시 while에서 pop을 하지 않기 떄문에 stack에 숫자가 남게됨\n",
        "    while idx < num and stack.top() == inputs[idx]:\n",
        "        stack.pop()\n",
        "        outputs.append(\"-\")\n",
        "        idx += 1\n",
        " \n",
        "#숫자가 남은 경우 이 문제를 풀지 못하는 경우 \"NO\"를 출력\n",
        "if not stack.empty():\n",
        "    print(\"NO\")\n",
        "else:\n",
        "    for str in outputs:\n",
        "        print(str)"
      ],
      "execution_count": null,
      "outputs": []
    },
    {
      "cell_type": "markdown",
      "metadata": {
        "id": "1EarEiWSRR2e",
        "colab_type": "text"
      },
      "source": [
        "# 거스름돈(5585) 그리디알고리즘\n",
        "타로는 자주 JOI잡화점에서 물건을 산다. JOI잡화점에는 잔돈으로 500엔, 100엔, 50엔, 10엔, 5엔, 1엔이 충분히 있고, 언제나 거스름돈 개수가 가장 적게 잔돈을 준다. 타로가 JOI잡화점에서 물건을 사고 카운터에서 1000엔 지폐를 한장 냈을 때, 받을 잔돈에 포함된 잔돈의 개수를 구하는 프로그램을 작성하시오.\n",
        "예를 들어 입력된 예1의 경우에는 아래 그림에서 처럼 4개를 출력해야 한다.\n",
        "\n",
        "입력은 한줄로 이루어져있고, 타로가 지불할 돈(1 이상 1000미만의 정수) 1개가 쓰여져있다.\n",
        "\n",
        "제출할 출력 파일은 1행으로만 되어 있다. 잔돈에 포함된 매수를 출력하시오.\n",
        "\n",
        "예제 input=380 output=4\n",
        "\n",
        "\n",
        "\n"
      ]
    },
    {
      "cell_type": "code",
      "metadata": {
        "id": "fesETBn08Yr5",
        "colab_type": "code",
        "colab": {
          "base_uri": "https://localhost:8080/",
          "height": 51
        },
        "outputId": "7608cd48-62b2-45d9-e543-ffaca07bc756"
      },
      "source": [
        "a = 1000 - int(input()) #얼마짜리 물건을 사는지 입력받고 1000에서 빼기 \n",
        "coin = (500,100,50,10,5,1) \n",
        "def countcoin(a, coin):\n",
        "  count = 0 #동전의 개수를 0으로 초기화 \n",
        "  for i in coin: #i가 첫번째면 500, i가 두번째면 100, i가 세번째면 50 등의 순서로 진행하면서 index를 준다 \n",
        "    count += int(a/i) #예를 들어, i가 첫번째인 경우 500원짜리 동전이 몇 개까지 커버가능한지를 센다 \n",
        "    a -= int(a/i)*i #동전을 센 금액만큼 빼주고 다시 for 루프가 반복될 수 있도록 한다 \n",
        "  return count #동전 개수를 몇개인지 return한다 \n",
        "print(countcoin(a, coin)) #함수의 결과를 출력한다\n",
        "\n",
        "#숏코딩\n",
        "# a=1000-int(input())\n",
        "# print(a//500+a//100%5+a//50%2+a//10%5+a//5%2+a%5)"
      ],
      "execution_count": null,
      "outputs": [
        {
          "output_type": "stream",
          "text": [
            "380\n",
            "4\n"
          ],
          "name": "stdout"
        }
      ]
    }
  ]
}